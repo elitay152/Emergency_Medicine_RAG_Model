{
 "cells": [
  {
   "cell_type": "markdown",
   "metadata": {},
   "source": [
    "## TT01: Natural Language Processing Pipeline"
   ]
  },
  {
   "cell_type": "markdown",
   "metadata": {},
   "source": [
    "We can use natural language processing in the healthcare field for a variety of purposes, such as gathering data from notes in electronic medical records. The site mtsamples.com provides a variety of notes based on medical transcription which are de-identified and freely available for educational purposes. For this task, we will use a sample physical therapy note, found here: https://mtsamples.com/site/pages/sample.asp?Type=68-Physical%20Medicine%20-%20Rehab&Sample=1613-Physical%20Therapy%20-%20Back%20Pain"
   ]
  },
  {
   "cell_type": "markdown",
   "metadata": {},
   "source": [
    "### Create virtual environment"
   ]
  },
  {
   "cell_type": "markdown",
   "metadata": {},
   "source": [
    "To create a virtual environment in Python (on Windows), enter the following in the powershell terminal:\n",
    "\n",
    "python -m venv tt_venv\n",
    "\n",
    "tt_venv\\Scripts\\activate\n",
    "\n",
    "Ensure the newly created venv is selected as the notebook kernel."
   ]
  },
  {
   "cell_type": "markdown",
   "metadata": {},
   "source": [
    "## Webscraping Text Data with BeautifulSoup4\n"
   ]
  },
  {
   "cell_type": "code",
   "execution_count": 1,
   "metadata": {},
   "outputs": [],
   "source": [
    "#if needed: pip install beautifulsoup4 requests spacy\n",
    "from bs4 import BeautifulSoup\n",
    "import requests\n",
    "import spacy\n",
    "from spacy.lang.en.stop_words import STOP_WORDS\n",
    "from spacy.language import Language\n",
    "import uuid"
   ]
  },
  {
   "cell_type": "code",
   "execution_count": 2,
   "metadata": {},
   "outputs": [],
   "source": [
    "url = \"https://mtsamples.com/site/pages/sample.asp?Type=68-Physical%20Medicine%20-%20Rehab&Sample=1613-Physical%20Therapy%20-%20Back%20Pain\"\n",
    "response = requests.get(url)\n",
    "html_content = response.text"
   ]
  },
  {
   "cell_type": "markdown",
   "metadata": {},
   "source": [
    "### Extract and Clean Data\n",
    "There will be a lot of extra content we don't need. We can inspect the webpage to find the location of the text we want. "
   ]
  },
  {
   "cell_type": "code",
   "execution_count": 3,
   "metadata": {},
   "outputs": [],
   "source": [
    "soup = BeautifulSoup(response.content, \"html.parser\")"
   ]
  },
  {
   "cell_type": "code",
   "execution_count": 5,
   "metadata": {},
   "outputs": [],
   "source": [
    "#print(soup)"
   ]
  },
  {
   "cell_type": "code",
   "execution_count": 6,
   "metadata": {},
   "outputs": [
    {
     "data": {
      "text/plain": [
       "\"Sample Name: Physical Therapy - Back Pain; Description: Patient was referred to Physical Therapy, secondary to low back pain and degenerative disk disease. The patient states she has had a cauterization of some sort to the nerves in her low back to help alleviate with painful symptoms. The patient would benefit from skilled physical therapy intervention.; DIAGNOSIS: Low back pain and degenerative lumbar disk.; HISTORY: The patient is a 59-year-old female, who was referred to Physical Therapy, secondary to low back pain and degenerative disk disease. The patient states she has had a cauterization of some sort to the nerves in her low back to help alleviate with painful symptoms. The patient states that this occurred in October 2008 as well as November 2008. The patient has a history of low back pain, secondary to a fall that originally occurred in 2006. The patient states that she slipped on a newly waxed floor and fell on her tailbone and low back region. The patient then had her second fall in March 2006. The patient states that she was qualifying on the range with a handgun and lost her footing and states that she fell more due to weakness in her lower extremities rather than loss of balance.; PAST MEDICAL HISTORY: Past medical history is significant for allergies and thyroid problems.; PAST SURGICAL HISTORY: The patient has a past surgical history of appendectomy and hysterectomy.; SOCIAL HISTORY: The patient states she lives in a single-level home with her husband, who is in good health and is able to assist with any tasks or activities the patient is having difficulty with. The patient rates her general health as excellent and denies any smoking and reports very occasional alcohol consumption. The patient does state that she has completed exercises on a daily basis of one to one and a half hours a day. However, has not been able to complete these exercise routine since approximately June 2008, secondary to back pain. The patient is working full-time as a project manager, and is required to do extensive walking at various periods during a workday.; MEDICAL IMAGING: The patient states that she has had an MRI recently performed; however, the results are not available at the time of the evaluation. The patient states she is able to bring the report in upon next visit.; SUBJECTIVE: The patient rates her pain at 7/10 on a Pain Analog Scale, 0 to 10, 10 being worse. The patient describes her pain as a deep aching, primarily on the right lower back and gluteal region. Aggravating factors include stairs and prolonged driving, as well as general limitations with home tasks and projects. The patient states she is a very active individual and is noticing extreme limitations with ability to complete home tasks and projects she used to be able to complete.; NEUROLOGICAL SYMPTOMS: The patient reports having occasional shooting pains into the lower extremities. However, these are occurring less frequently and is now occurring more frequently in the right versus the left lower extremity when they do occur.; FUNCTIONAL ACTIVITIES AND HOBBIES: Include exercising and general activities.; PATIENT'S GOAL: The patient would like to improve her overall body movements and return to daily exercise routine as able and well maintaining safety.; OBJECTIVE: Upon observation, the patient ambulates independently without the use of assistive device. However, does present with mild limp and favoring the left lower extremity after extensive standing and walking activity. The patient does have mild difficulty transferring from the seated position to standing. However, once is upright, the patient denies any increased pain or symptoms.; ACTIVE RANGE OF MOTION OF LUMBAR SPINE: Forward flexion is 26 cm, fingertip to floor, lateral side bend, fingertip to floor is 52.5 cm bilaterally.; STRENGTH: Strength is grossly 4/5. The patient denies any significant tenderness to palpation. However, does have mild increase in tenderness on the right versus left. A six-minute walk test revealed painful symptoms and achiness occurring after approximately 400 feet of walking. The patient was able to continue; however, stopped after 700 feet. There were two minutes remaining in the six-minute walk test. The patient does have tight hamstrings as well as a negative slump test.; ASSESSMENT: The patient would benefit from skilled physical therapy intervention in order to address the following problem list.; PROGNOSIS: Prognosis is good for above-stated goals, with compliance with home exercise program and therapy treatments.; PLAN OF CARE: The patient to be seen three times a week for six weeks for the following:; Keywords: physical medicine - rehab, low back pain, degenerative lumbar disk, functional activities, strength, physical therapy intervention, home exercise program, walk test, physical therapy, therapy, walking, exercises,; \""
      ]
     },
     "execution_count": 6,
     "metadata": {},
     "output_type": "execute_result"
    }
   ],
   "source": [
    "# Search for a specific tag or element\n",
    "# get all the headers (<b> tags)\n",
    "headers = soup.find_all(\"b\")\n",
    "full_text = \"\"\n",
    "\n",
    "for header in headers[1:]:\n",
    "    #get the header and any text immediately following\n",
    "    #only keep headers with corresponding text\n",
    "    if header.next_sibling.string:\n",
    "        #strip() will remove extra whitespace\n",
    "        heading_text = header.text.strip()\n",
    "        full_text += f\"{heading_text} \"\n",
    "        next_sibling = header.next_sibling.strip()\n",
    "        full_text += f\"{next_sibling}; \"\n",
    "\n",
    "full_text"
   ]
  },
  {
   "cell_type": "markdown",
   "metadata": {},
   "source": [
    "## Preprocessing Text with spaCy"
   ]
  },
  {
   "cell_type": "markdown",
   "metadata": {},
   "source": [
    "In the terminal, run: python -m spacy download en_core_web_sm"
   ]
  },
  {
   "cell_type": "code",
   "execution_count": 7,
   "metadata": {},
   "outputs": [],
   "source": [
    "#load an English language model\n",
    "nlp = spacy.load(\"en_core_web_sm\")\n",
    "\n",
    "#create a spaCy document\n",
    "doc = nlp(full_text)"
   ]
  },
  {
   "cell_type": "markdown",
   "metadata": {},
   "source": [
    "### Explore spaCy features for NLP"
   ]
  },
  {
   "cell_type": "code",
   "execution_count": 8,
   "metadata": {},
   "outputs": [
    {
     "name": "stdout",
     "output_type": "stream",
     "text": [
      "Token text: Patient\n",
      "Token part of speech: PROPN\n",
      "Token dependency label: nsubjpass\n",
      "Token lemmatization: Patient\n",
      "\n",
      "Token text: was\n",
      "Token part of speech: AUX\n",
      "Token dependency label: auxpass\n",
      "Token lemmatization: be\n",
      "\n",
      "Token text: referred\n",
      "Token part of speech: VERB\n",
      "Token dependency label: ROOT\n",
      "Token lemmatization: refer\n",
      "\n",
      "Token text: to\n",
      "Token part of speech: ADP\n",
      "Token dependency label: prep\n",
      "Token lemmatization: to\n",
      "\n",
      "Token text: Physical\n",
      "Token part of speech: PROPN\n",
      "Token dependency label: compound\n",
      "Token lemmatization: Physical\n",
      "\n",
      "Token text: Therapy\n",
      "Token part of speech: PROPN\n",
      "Token dependency label: pobj\n",
      "Token lemmatization: Therapy\n",
      "\n"
     ]
    }
   ],
   "source": [
    "#view tokens, part of speech tagging, dependency labels, lemmatization\n",
    "for token in doc[11:17]:\n",
    "    token_text = token.text\n",
    "    token_pos = token.pos_\n",
    "    token_dep = token.dep_\n",
    "    token_lemma = token.lemma_\n",
    "\n",
    "    print(f\"Token text: {token_text}\\nToken part of speech: {token_pos}\\nToken dependency label: {token_dep}\\nToken lemmatization: {token_lemma}\\n\")    "
   ]
  },
  {
   "cell_type": "code",
   "execution_count": 9,
   "metadata": {},
   "outputs": [
    {
     "name": "stdout",
     "output_type": "stream",
     "text": [
      "Physical Therapy PERSON\n",
      "59-year-old DATE\n",
      "Physical Therapy PERSON\n",
      "October 2008 DATE\n",
      "November 2008 DATE\n",
      "2006 DATE\n",
      "second ORDINAL\n",
      "March 2006 DATE\n",
      "daily DATE\n",
      "one CARDINAL\n",
      "approximately June 2008 DATE\n",
      "MEDICAL IMAGING ORG\n",
      "7/10 CARDINAL\n",
      "Pain Analog Scale FAC\n",
      "0 CARDINAL\n",
      "10 CARDINAL\n",
      "10 CARDINAL\n",
      "PATIENT PERSON\n",
      "daily DATE\n",
      "26 cm QUANTITY\n",
      "52.5 cm QUANTITY\n",
      "4/5 CARDINAL\n",
      "six-minute TIME\n",
      "approximately 400 feet QUANTITY\n",
      "700 feet QUANTITY\n",
      "two minutes TIME\n",
      "six-minute TIME\n",
      "PROGNOSIS ORG\n",
      "Prognosis ORG\n",
      "three CARDINAL\n",
      "six weeks DATE\n"
     ]
    }
   ],
   "source": [
    "# view entity labels\n",
    "for ent in doc.ents:\n",
    "    print(ent.text, ent.label_)"
   ]
  },
  {
   "cell_type": "code",
   "execution_count": 10,
   "metadata": {},
   "outputs": [
    {
     "name": "stdout",
     "output_type": "stream",
     "text": [
      "Hash for 'Patient': 9416364957002412138\n",
      "String for hash 9416364957002412138: Patient\n"
     ]
    }
   ],
   "source": [
    "#spaCy encodes strings to hash values, which we can view\n",
    "patient_hash = nlp.vocab.strings[\"Patient\"]\n",
    "\n",
    "#we can also retrieve a string using the hash\n",
    "patient_string = nlp.vocab.strings[patient_hash]\n",
    "\n",
    "print(f\"Hash for 'Patient': {patient_hash}\")\n",
    "print(f\"String for hash {patient_hash}: {patient_string}\")"
   ]
  },
  {
   "cell_type": "code",
   "execution_count": 11,
   "metadata": {},
   "outputs": [
    {
     "name": "stdout",
     "output_type": "stream",
     "text": [
      "[-3.9741808e-01 -1.3856400e+00  5.7806504e-01 -1.5399754e-02\n",
      "  1.7877106e-01  2.1425787e-01  1.2081375e+00 -7.1735270e-02\n",
      " -3.1131499e-02 -1.1783031e+00 -4.3315195e-02  1.3181183e+00\n",
      " -1.1444057e-01 -8.3655721e-01 -1.1318797e+00  1.5556824e-01\n",
      " -4.7439426e-01  1.8106326e-02  4.3560645e-01 -4.0725997e-01\n",
      " -1.7060134e-01  1.0878589e+00  2.1799409e-01  4.9136853e-01\n",
      " -3.4494674e-01  2.0363297e-01  1.0529954e+00 -2.6651493e-01\n",
      "  3.3629447e-02  2.1072283e+00 -1.5693143e-01 -8.5809922e-01\n",
      "  6.7423582e-01 -7.0788735e-01  2.2461680e-01  8.9101803e-01\n",
      " -1.1783483e+00  8.1692055e-02 -5.7475716e-01  9.8924422e-01\n",
      "  2.3335974e-01 -1.2498984e+00 -8.1326163e-01  5.7638109e-01\n",
      "  5.9747797e-01  4.4530320e-01  1.1371143e+00  6.0283279e-01\n",
      "  1.3172561e-01 -8.4578639e-01 -6.5022427e-01  3.1630656e-01\n",
      " -5.7802093e-01 -7.2950244e-01  7.8096412e-02 -5.0547588e-01\n",
      "  4.4854665e-01 -3.1139100e-01  9.7099662e-02 -2.5116798e-01\n",
      " -2.5167334e-01  7.6783502e-01 -3.6242005e-01 -5.7144147e-01\n",
      " -1.4918718e-01 -1.6439384e-01  2.3892754e-01  1.3036335e-01\n",
      " -1.0842148e+00 -1.7246400e+00 -6.3078368e-01  1.5439646e+00\n",
      "  9.7907603e-01  8.2188463e-01 -2.3900625e-01 -7.9026252e-01\n",
      " -8.5588032e-01 -4.0873736e-01  1.2066157e+00 -4.4219664e-01\n",
      " -1.4788359e-03 -2.0178439e-01 -6.5558267e-01 -6.8049788e-01\n",
      " -2.1344669e-01 -2.3040029e-01  6.1433733e-01 -1.2789601e+00\n",
      "  6.5072632e-01 -5.6539738e-01  3.1966269e-01 -2.2780091e-02\n",
      "  2.4173573e-01  6.8182111e-01  1.7451008e-01  4.4298813e-01]\n"
     ]
    }
   ],
   "source": [
    "#we can also view the vector embeddings for the text\n",
    "patient_vector = doc[11].vector\n",
    "print(patient_vector)"
   ]
  },
  {
   "cell_type": "markdown",
   "metadata": {},
   "source": [
    "## Create a preprocessing pipeline"
   ]
  },
  {
   "cell_type": "code",
   "execution_count": 10,
   "metadata": {},
   "outputs": [
    {
     "name": "stdout",
     "output_type": "stream",
     "text": [
      "Pipeline components:\n",
      "\n",
      "tok2vec\n",
      "tagger\n",
      "parser\n",
      "attribute_ruler\n",
      "lemmatizer\n",
      "ner\n"
     ]
    }
   ],
   "source": [
    "#the \"en_core_web_sm\" is a prebuild spaCy pipeline\n",
    "#we can view the components of the pipeline to understand what it is doing\n",
    "print(\"Pipeline components:\\n\")\n",
    "\n",
    "for n in nlp.pipe_names:\n",
    "    print(n)"
   ]
  },
  {
   "cell_type": "markdown",
   "metadata": {},
   "source": [
    "### Add custom pipeline components"
   ]
  },
  {
   "cell_type": "code",
   "execution_count": 12,
   "metadata": {},
   "outputs": [],
   "source": [
    "# Component 1: Cleaning Component\n",
    "@Language.component(\"cleaning_component\")\n",
    "def cleaning_component(doc):\n",
    "    \"\"\"\n",
    "    Cleans the text:\n",
    "    - Tokenization, lemmatization, and stopword removal\n",
    "    - Removes punctuation and spaces\n",
    "    - Stores cleaned text in doc.user_data\n",
    "    \"\"\"\n",
    "    tokens = [\n",
    "        token.lemma_.lower()\n",
    "        for token in doc\n",
    "        if not token.is_stop  # Remove stopwords\n",
    "        and not token.is_punct  # Remove punctuation\n",
    "        and not token.is_space  # Remove spaces\n",
    "    ]\n",
    "    cleaned_text = \" \".join(tokens)\n",
    "    doc.user_data[\"cleaned_text\"] = cleaned_text  # Store cleaned text\n",
    "    return doc"
   ]
  },
  {
   "cell_type": "code",
   "execution_count": 13,
   "metadata": {},
   "outputs": [],
   "source": [
    "# Component 2: Chunking Component\n",
    "@Language.component(\"chunking_component\")\n",
    "def chunking_component(doc, chunk_size=200, overlap=20):\n",
    "    \"\"\"\n",
    "    Splits the cleaned text into chunks and stores them in doc.user_data:\n",
    "    - Uses the cleaned text from doc.user_data[\"cleaned_text\"]\n",
    "    - Adds overlap between chunks to retain context\n",
    "    \"\"\"\n",
    "    cleaned_text = doc.user_data.get(\"cleaned_text\", \"\")\n",
    "    words = cleaned_text.split()\n",
    "    chunks = []\n",
    "    \n",
    "    for i in range(0, len(words), chunk_size - overlap):\n",
    "        chunk_text = \" \".join(words[i:i + chunk_size])\n",
    "        chunk_metadata = {\n",
    "            \"document_id\": doc.user_data.get(\"document_id\", str(uuid.uuid4())),  # Ensure a document ID exists\n",
    "            \"chunk_index\": i // (chunk_size - overlap)\n",
    "        }\n",
    "        chunks.append({\"text\": chunk_text, \"metadata\": chunk_metadata})\n",
    "    \n",
    "    doc.user_data[\"chunks\"] = chunks  # Store chunks\n",
    "    return doc"
   ]
  },
  {
   "cell_type": "code",
   "execution_count": 14,
   "metadata": {},
   "outputs": [],
   "source": [
    "#Component 3: Generate a unique document ID\n",
    "@Language.component(\"doc_id_component\")\n",
    "\n",
    "def document_id_component(doc):\n",
    "    \"\"\"Add a globally unique document ID using uuid4\"\"\"\n",
    "    doc_id = str(uuid.uuid4())\n",
    "    doc.user_data[\"document_id\"] = doc_id\n",
    "    return doc"
   ]
  },
  {
   "cell_type": "code",
   "execution_count": 15,
   "metadata": {},
   "outputs": [
    {
     "data": {
      "text/plain": [
       "<function __main__.chunking_component(doc, chunk_size=200, overlap=20)>"
      ]
     },
     "execution_count": 15,
     "metadata": {},
     "output_type": "execute_result"
    }
   ],
   "source": [
    "# Add components to the pipeline\n",
    "nlp.add_pipe(\"doc_id_component\", first=True)          # Generate document ID\n",
    "nlp.add_pipe(\"cleaning_component\", after=\"ner\")  # Clean text\n",
    "nlp.add_pipe(\"chunking_component\", last=True)         # Chunk text"
   ]
  },
  {
   "cell_type": "code",
   "execution_count": 16,
   "metadata": {},
   "outputs": [
    {
     "name": "stdout",
     "output_type": "stream",
     "text": [
      "doc_id_component\n",
      "tok2vec\n",
      "tagger\n",
      "parser\n",
      "attribute_ruler\n",
      "lemmatizer\n",
      "ner\n",
      "cleaning_component\n",
      "chunking_component\n"
     ]
    }
   ],
   "source": [
    "#we can see our functions are added to the pipeline\n",
    "for n in nlp.pipe_names:\n",
    "    print(n)"
   ]
  },
  {
   "cell_type": "markdown",
   "metadata": {},
   "source": [
    "## Test the Finished Pipeline"
   ]
  },
  {
   "cell_type": "code",
   "execution_count": 17,
   "metadata": {},
   "outputs": [
    {
     "name": "stdout",
     "output_type": "stream",
     "text": [
      "Cleaned Text: sample physical therapy pain description patient refer physical therapy secondary low pain degenerative disk disease patient state cauterization sort nerve low help alleviate painful symptom patient benefit skilled physical therapy intervention diagnosis low pain degenerative lumbar disk history patient 59 year old female refer physical therapy secondary low pain degenerative disk disease patient state cauterization sort nerve low help alleviate painful symptom patient state occur october 2008 november 2008 patient history low pain secondary fall originally occur 2006 patient state slip newly wax floor fall tailbone low region patient second fall march 2006 patient state qualify range handgun lose footing state fall weakness low extremity loss balance past medical history past medical history significant allergy thyroid problem past surgical history patient past surgical history appendectomy hysterectomy social history patient state live single level home husband good health able assist task activity patient have difficulty patient rate general health excellent deny smoking report occasional alcohol consumption patient state complete exercise daily basis half hour day able complete exercise routine approximately june 2008 secondary pain patient work time project manager require extensive walking period workday medical imaging patient state mri recently perform result available time evaluation patient state able bring report visit subjective patient rate pain 7/10 pain analog scale 0 10 10 bad patient describe pain deep aching primarily right lower gluteal region aggravating factor include stair prolonged driving general limitation home task project patient state active individual notice extreme limitation ability complete home task project able complete neurological symptom patient report have occasional shooting pain low extremity occur frequently occur frequently right versus left low extremity occur functional activity hobby include exercise general activity patient goal patient like improve overall body movement return daily exercise routine able maintain safety objective observation patient ambulate independently use assistive device present mild limp favor left low extremity extensive standing walk activity patient mild difficulty transfer seat position standing upright patient deny increase pain symptom active range motion lumbar spine forward flexion 26 cm fingertip floor lateral bend fingertip floor 52.5 cm bilaterally strength strength grossly 4/5 patient deny significant tenderness palpation mild increase tenderness right versus left minute walk test reveal painful symptom achiness occur approximately 400 foot walking patient able continue stop 700 foot minute remain minute walk test patient tight hamstring negative slump test assessment patient benefit skilled physical therapy intervention order address follow problem list prognosis prognosis good state goal compliance home exercise program therapy treatment plan care patient see time week week following keyword physical medicine rehab low pain degenerative lumbar disk functional activity strength physical therapy intervention home exercise program walk test physical therapy therapy walking exercise\n",
      "Chunk Text: sample physical therapy pain description patient refer physical therapy secondary low pain degenerative disk disease patient state cauterization sort nerve low help alleviate painful symptom patient benefit skilled physical therapy intervention diagnosis low pain degenerative lumbar disk history patient 59 year old female refer physical therapy secondary low pain degenerative disk disease patient state cauterization sort nerve low help alleviate painful symptom patient state occur october 2008 november 2008 patient history low pain secondary fall originally occur 2006 patient state slip newly wax floor fall tailbone low region patient second fall march 2006 patient state qualify range handgun lose footing state fall weakness low extremity loss balance past medical history past medical history significant allergy thyroid problem past surgical history patient past surgical history appendectomy hysterectomy social history patient state live single level home husband good health able assist task activity patient have difficulty patient rate general health excellent deny smoking report occasional alcohol consumption patient state complete exercise daily basis half hour day able complete exercise routine approximately june 2008 secondary pain patient work time project manager require extensive walking period workday medical imaging patient state mri recently perform result available time evaluation patient state able bring report visit\n",
      "Metadata: {'document_id': 'dcfafe02-d8dc-4d84-b04e-e6d40f5cc6d1', 'chunk_index': 0}\n",
      "Chunk Text: walking period workday medical imaging patient state mri recently perform result available time evaluation patient state able bring report visit subjective patient rate pain 7/10 pain analog scale 0 10 10 bad patient describe pain deep aching primarily right lower gluteal region aggravating factor include stair prolonged driving general limitation home task project patient state active individual notice extreme limitation ability complete home task project able complete neurological symptom patient report have occasional shooting pain low extremity occur frequently occur frequently right versus left low extremity occur functional activity hobby include exercise general activity patient goal patient like improve overall body movement return daily exercise routine able maintain safety objective observation patient ambulate independently use assistive device present mild limp favor left low extremity extensive standing walk activity patient mild difficulty transfer seat position standing upright patient deny increase pain symptom active range motion lumbar spine forward flexion 26 cm fingertip floor lateral bend fingertip floor 52.5 cm bilaterally strength strength grossly 4/5 patient deny significant tenderness palpation mild increase tenderness right versus left minute walk test reveal painful symptom achiness occur approximately 400 foot walking patient able continue stop 700 foot minute remain minute walk test patient tight hamstring\n",
      "Metadata: {'document_id': 'dcfafe02-d8dc-4d84-b04e-e6d40f5cc6d1', 'chunk_index': 1}\n"
     ]
    }
   ],
   "source": [
    "#reprocess the text in our updated pipeline\n",
    "doc = nlp(full_text)\n",
    "\n",
    "# Access results\n",
    "cleaned_text = doc.user_data.get(\"cleaned_text\")\n",
    "print(\"Cleaned Text:\", cleaned_text)  # Print first 100 characters of cleaned text\n",
    "\n",
    "chunks = doc.user_data.get(\"chunks\")\n",
    "for chunk in chunks[:2]:  # Print first 2 chunks for brevity\n",
    "    print(f\"Chunk Text: {chunk['text']}\")\n",
    "    print(f\"Metadata: {chunk['metadata']}\")"
   ]
  },
  {
   "cell_type": "code",
   "execution_count": null,
   "metadata": {},
   "outputs": [],
   "source": []
  }
 ],
 "metadata": {
  "kernelspec": {
   "display_name": "tt_venv",
   "language": "python",
   "name": "python3"
  },
  "language_info": {
   "codemirror_mode": {
    "name": "ipython",
    "version": 3
   },
   "file_extension": ".py",
   "mimetype": "text/x-python",
   "name": "python",
   "nbconvert_exporter": "python",
   "pygments_lexer": "ipython3",
   "version": "3.11.4"
  }
 },
 "nbformat": 4,
 "nbformat_minor": 2
}
